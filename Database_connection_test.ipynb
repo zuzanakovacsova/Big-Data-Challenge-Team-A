{
 "cells": [
  {
   "cell_type": "markdown",
   "metadata": {},
   "source": [
    "## Prerequisities: \n",
    "- installed packages: mysqlconnector, sqlalchemy, pymysl\n",
    "\n",
    "### How to install packages:\n",
    "1. open \"anaconda prompt\" (if you're running jupyter notebooks from anaconda)\n",
    "2. run \"pip install mysql-connector-python\"\n",
    "3. run \"pip install SQLAlchemy\"\n",
    "4. run \"pip install PyMySQL\"\n",
    "\n",
    "### Connection details: \n",
    "Make sure the safety certificates and the .teama file are all in the same folder as this notebook"
   ]
  },
  {
   "cell_type": "code",
   "execution_count": null,
   "metadata": {},
   "outputs": [],
   "source": [
    "from mysql.connector import MySQLConnection, Error\n",
    "import pandas as pd\n",
    "from sqlalchemy import create_engine \n",
    "import pymysql"
   ]
  },
  {
   "cell_type": "code",
   "execution_count": null,
   "metadata": {},
   "outputs": [],
   "source": [
    "# Taken from: https://www.mysqltutorial.org/python-connecting-mysql-databases/\n",
    "\n",
    "from configparser import ConfigParser\n",
    "\n",
    "# Change filename to \"teama.teama\" or any other user\n",
    "def read_db_config(filename='teama.teama', section='mysql'):\n",
    "    \"\"\" Read database configuration file and return a dictionary object\n",
    "    :param filename: name of the configuration file\n",
    "    :param section: section of database configuration\n",
    "    :return: a dictionary of database parameters\n",
    "    \"\"\"\n",
    "    # create parser and read configuration file\n",
    "    parser = ConfigParser()\n",
    "    parser.read(filename)\n",
    "\n",
    "    # get section, default to mysql\n",
    "    db = {}\n",
    "    if parser.has_section(section):\n",
    "        items = parser.items(section)\n",
    "        for item in items:\n",
    "            db[item[0]] = item[1]\n",
    "    \n",
    "    \n",
    "    else:\n",
    "        raise Exception('{0} not found in the {1} file'.format(section, filename))\n",
    "        \n",
    "    conn_string = 'mysql+pymysql://'+db['user']+':'+db['password']+'@'+':'.join([db['host'],db['port']])+'/'+db['db']+\"\"\n",
    "    db_cert = {'ssl': {'cert':db['ssl_cert'], 'key':db['ssl_key'], 'ca':db['ssl_ca'],'check_hostname': False}}\n",
    "    \n",
    "    \n",
    "    return conn_string,db_cert;"
   ]
  },
  {
   "cell_type": "code",
   "execution_count": null,
   "metadata": {
    "scrolled": true
   },
   "outputs": [],
   "source": [
    "# Create connection string and connection arguments (the information about which database we're accessing and how we're accessing it)\n",
    "conn_string,ssl_args = read_db_config()"
   ]
  },
  {
   "cell_type": "code",
   "execution_count": null,
   "metadata": {},
   "outputs": [],
   "source": [
    "# set up connection engine \n",
    "engine = create_engine(conn_string,connect_args=ssl_args)"
   ]
  },
  {
   "cell_type": "code",
   "execution_count": null,
   "metadata": {},
   "outputs": [],
   "source": [
    "# read table \"test\" from the database into a pandas dataframe\n",
    "df = pd.read_sql('SELECT * FROM test', con=engine)"
   ]
  },
  {
   "cell_type": "code",
   "execution_count": null,
   "metadata": {},
   "outputs": [],
   "source": [
    "# print table \n",
    "df"
   ]
  },
  {
   "cell_type": "code",
   "execution_count": null,
   "metadata": {},
   "outputs": [],
   "source": []
  }
 ],
 "metadata": {
  "kernelspec": {
   "display_name": "Python 3",
   "language": "python",
   "name": "python3"
  },
  "language_info": {
   "codemirror_mode": {
    "name": "ipython",
    "version": 3
   },
   "file_extension": ".py",
   "mimetype": "text/x-python",
   "name": "python",
   "nbconvert_exporter": "python",
   "pygments_lexer": "ipython3",
   "version": "3.7.6"
  }
 },
 "nbformat": 4,
 "nbformat_minor": 4
}
