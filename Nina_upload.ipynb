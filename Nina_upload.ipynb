{
 "cells": [
  {
   "cell_type": "code",
   "execution_count": 57,
   "metadata": {},
   "outputs": [
    {
     "data": {
      "text/plain": [
       "'\\nurl = \"https://raw.githubusercontent.com/OxCGRT/covid-policy-tracker/master/data/OxCGRT_latest.csv\"\\ndownload = requests.get(url).content\\n\\ntest_df = pd.read_csv(io.StringIO(download.decode(\\'utf-8\\')))\\nprint(test_df.head())\\ntest_df.to_csv(\\'oxford_strigency.csv\\')\\n'"
      ]
     },
     "execution_count": 57,
     "metadata": {},
     "output_type": "execute_result"
    }
   ],
   "source": [
    "import pandas as pd\n",
    "import requests\n",
    "import io\n",
    "\n",
    "# download csv from git to my mac\n",
    "'''\n",
    "url = \"https://raw.githubusercontent.com/OxCGRT/covid-policy-tracker/master/data/OxCGRT_latest.csv\"\n",
    "download = requests.get(url).content\n",
    "\n",
    "test_df = pd.read_csv(io.StringIO(download.decode('utf-8')))\n",
    "print(test_df.head())\n",
    "test_df.to_csv('oxford_strigency.csv')\n",
    "'''"
   ]
  },
  {
   "cell_type": "code",
   "execution_count": 58,
   "metadata": {},
   "outputs": [],
   "source": [
    "from mysql.connector import MySQLConnection, Error\n",
    "import pandas as pd\n",
    "from sqlalchemy import create_engine \n",
    "import pymysql\n",
    "\n",
    "from connection_config import read_db_config"
   ]
  },
  {
   "cell_type": "code",
   "execution_count": 59,
   "metadata": {},
   "outputs": [],
   "source": [
    "conn_string,ssl_args = read_db_config('teama.teama')\n",
    "engine = create_engine(conn_string,connect_args=ssl_args)"
   ]
  },
  {
   "cell_type": "markdown",
   "metadata": {},
   "source": [
    "Import oxford strigency data"
   ]
  },
  {
   "cell_type": "code",
   "execution_count": 60,
   "metadata": {},
   "outputs": [],
   "source": [
    "# oxford_stringency_df = pd.read_csv('/Users/Nina/Documents/GitHub/Big-Data-Challenge-Team-A/oxford_strigency.csv',header = 0)\n",
    "# oxford_stringency_df.to_sql('oxford_stringency_raw',con = engine,if_exists = 'fail')"
   ]
  },
  {
   "cell_type": "markdown",
   "metadata": {},
   "source": [
    "Import diesel and petrol data for 2020 taken from https://www.gov.uk/government/statistics/road-fuel-sales-and-stock-levels-9-august-2020 "
   ]
  },
  {
   "cell_type": "code",
   "execution_count": 61,
   "metadata": {},
   "outputs": [],
   "source": [
    "# diesel_and_petrol_sales_2020_df = pd.read_csv('/Users/Nina/Documents/Big-Data-Challenge-Team-A/Nina_data/Petrol_and_diesel_sales_2020.csv',header = 0)\n",
    "# diesel_and_petrol_sales_2020_df.to_sql('diesel_and_petrol_sales_2020_df_raw',con = engine,if_exists = 'fail')"
   ]
  },
  {
   "cell_type": "code",
   "execution_count": 100,
   "metadata": {},
   "outputs": [],
   "source": [
    "# accessing dataframe from the cloud\n",
    "petrol_and_diesel_df = pd.read_sql('SELECT * FROM diesel_and_petrol_sales_2020_df_raw', con=engine)\n",
    "oxford_stringency_df = pd.read_sql('SELECT * FROM oxford_stringency_raw', con=engine)"
   ]
  },
  {
   "cell_type": "markdown",
   "metadata": {},
   "source": [
    "Check in which format the data is provided. The date column is not in datetime format, but a string, so I'll change that. "
   ]
  },
  {
   "cell_type": "code",
   "execution_count": 63,
   "metadata": {},
   "outputs": [
    {
     "data": {
      "text/html": [
       "<div>\n",
       "<style scoped>\n",
       "    .dataframe tbody tr th:only-of-type {\n",
       "        vertical-align: middle;\n",
       "    }\n",
       "\n",
       "    .dataframe tbody tr th {\n",
       "        vertical-align: top;\n",
       "    }\n",
       "\n",
       "    .dataframe thead th {\n",
       "        text-align: right;\n",
       "    }\n",
       "</style>\n",
       "<table border=\"1\" class=\"dataframe\">\n",
       "  <thead>\n",
       "    <tr style=\"text-align: right;\">\n",
       "      <th></th>\n",
       "      <th>index</th>\n",
       "      <th>Date</th>\n",
       "      <th>Weekday</th>\n",
       "      <th>Fuel Type</th>\n",
       "      <th>Total</th>\n",
       "    </tr>\n",
       "  </thead>\n",
       "  <tbody>\n",
       "    <tr>\n",
       "      <th>0</th>\n",
       "      <td>0</td>\n",
       "      <td>27/01/2020</td>\n",
       "      <td>Monday</td>\n",
       "      <td>Diesel</td>\n",
       "      <td>11,276</td>\n",
       "    </tr>\n",
       "    <tr>\n",
       "      <th>1</th>\n",
       "      <td>1</td>\n",
       "      <td>28/01/2020</td>\n",
       "      <td>Tuesday</td>\n",
       "      <td>Diesel</td>\n",
       "      <td>11,546</td>\n",
       "    </tr>\n",
       "    <tr>\n",
       "      <th>2</th>\n",
       "      <td>2</td>\n",
       "      <td>29/01/2020</td>\n",
       "      <td>Wednesday</td>\n",
       "      <td>Diesel</td>\n",
       "      <td>11,463</td>\n",
       "    </tr>\n",
       "    <tr>\n",
       "      <th>3</th>\n",
       "      <td>3</td>\n",
       "      <td>30/01/2020</td>\n",
       "      <td>Thursday</td>\n",
       "      <td>Diesel</td>\n",
       "      <td>11,397</td>\n",
       "    </tr>\n",
       "    <tr>\n",
       "      <th>4</th>\n",
       "      <td>4</td>\n",
       "      <td>31/01/2020</td>\n",
       "      <td>Friday</td>\n",
       "      <td>Diesel</td>\n",
       "      <td>11,894</td>\n",
       "    </tr>\n",
       "  </tbody>\n",
       "</table>\n",
       "</div>"
      ],
      "text/plain": [
       "   index        Date    Weekday Fuel Type     Total\n",
       "0      0  27/01/2020     Monday    Diesel   11,276 \n",
       "1      1  28/01/2020    Tuesday    Diesel   11,546 \n",
       "2      2  29/01/2020  Wednesday    Diesel   11,463 \n",
       "3      3  30/01/2020   Thursday    Diesel   11,397 \n",
       "4      4  31/01/2020     Friday    Diesel   11,894 "
      ]
     },
     "execution_count": 63,
     "metadata": {},
     "output_type": "execute_result"
    }
   ],
   "source": [
    "a = petrol_and_diesel_df.loc[5,'Date']\n",
    "type(a)\n",
    "# petrol_and_diesel_df.head()"
   ]
  },
  {
   "cell_type": "code",
   "execution_count": 64,
   "metadata": {},
   "outputs": [
    {
     "data": {
      "text/plain": [
       "pandas._libs.tslibs.timestamps.Timestamp"
      ]
     },
     "execution_count": 64,
     "metadata": {},
     "output_type": "execute_result"
    }
   ],
   "source": [
    "# convert the 'Date' column to datetime format \n",
    "petrol_and_diesel_df['Date']= pd.to_datetime(petrol_and_diesel_df['Date'], format='%d/%m/%Y') \n",
    "# check again format\n",
    "a = petrol_and_diesel_df.loc[5,'Date']\n",
    "type(a)"
   ]
  },
  {
   "cell_type": "markdown",
   "metadata": {},
   "source": [
    "Check format of total. It's a string again, so change it to float"
   ]
  },
  {
   "cell_type": "code",
   "execution_count": 65,
   "metadata": {},
   "outputs": [
    {
     "data": {
      "text/plain": [
       "str"
      ]
     },
     "execution_count": 65,
     "metadata": {},
     "output_type": "execute_result"
    }
   ],
   "source": [
    "a = petrol_and_diesel_df.loc[5,'Total']\n",
    "type(a)\n"
   ]
  },
  {
   "cell_type": "code",
   "execution_count": 66,
   "metadata": {},
   "outputs": [
    {
     "data": {
      "text/plain": [
       "numpy.float32"
      ]
     },
     "execution_count": 66,
     "metadata": {},
     "output_type": "execute_result"
    }
   ],
   "source": [
    "petrol_and_diesel_df['Total'] = petrol_and_diesel_df['Total'].replace(',','', regex=True)\n",
    "petrol_and_diesel_df['Total']= pd.to_numeric(petrol_and_diesel_df['Total'], downcast='float') \n",
    "a = petrol_and_diesel_df.loc[5,'Total']\n",
    "type(a)"
   ]
  },
  {
   "cell_type": "markdown",
   "metadata": {},
   "source": [
    "Split dataframe into two dataframes, one for diesel data and one for petrol data\n"
   ]
  },
  {
   "cell_type": "code",
   "execution_count": 67,
   "metadata": {},
   "outputs": [],
   "source": [
    "diesel_df = petrol_and_diesel_df[petrol_and_diesel_df['Fuel Type'] == 'Diesel']\n",
    "petrol_df = petrol_and_diesel_df[petrol_and_diesel_df['Fuel Type'] == 'Petrol']\n"
   ]
  },
  {
   "cell_type": "markdown",
   "metadata": {},
   "source": [
    "Plot both diesel and petrol sales in one figure"
   ]
  },
  {
   "cell_type": "code",
   "execution_count": 99,
   "metadata": {},
   "outputs": [
    {
     "data": {
      "image/png": "[encoded data removed]",
      "text/plain": [
       "<Figure size 432x288 with 1 Axes>"
      ]
     },
     "metadata": {
      "needs_background": "light"
     },
     "output_type": "display_data"
    }
   ],
   "source": [
    "\n",
    "import matplotlib.pyplot as plt\n",
    "# diesel_df.plot(x ='Date', y='Total', kind = 'line')\n",
    "\n",
    "fig = plt.figure()\n",
    "\n",
    "plt.plot(diesel_df['Date'], diesel_df['Total'], label='Diesel')\n",
    "plt.plot(petrol_df['Date'], petrol_df['Total'], label='Petrol')\n",
    "\n",
    "plt.xlabel('Date')\n",
    "plt.ylabel('Total Daily Sales in litres')\n",
    "plt.legend()\n",
    "\n",
    "\n",
    "plt.show()\n"
   ]
  },
  {
   "cell_type": "markdown",
   "metadata": {},
   "source": [
    "Now include the Oxford Stringeny index. First, we check the dataframe and realise we only need UK data."
   ]
  },
  {
   "cell_type": "code",
   "execution_count": 108,
   "metadata": {},
   "outputs": [],
   "source": [
    "oxford_stringency_df['Date']= pd.to_datetime(oxford_stringency_df['Date'], format='%Y%m%d')\n",
    "oxford_uk_df = oxford_stringency_df[oxford_stringency_df['CountryCode'] == 'GBR']"
   ]
  },
  {
   "cell_type": "code",
   "execution_count": 103,
   "metadata": {},
   "outputs": [
    {
     "data": {
      "text/html": [
       "<div>\n",
       "<style scoped>\n",
       "    .dataframe tbody tr th:only-of-type {\n",
       "        vertical-align: middle;\n",
       "    }\n",
       "\n",
       "    .dataframe tbody tr th {\n",
       "        vertical-align: top;\n",
       "    }\n",
       "\n",
       "    .dataframe thead th {\n",
       "        text-align: right;\n",
       "    }\n",
       "</style>\n",
       "<table border=\"1\" class=\"dataframe\">\n",
       "  <thead>\n",
       "    <tr style=\"text-align: right;\">\n",
       "      <th></th>\n",
       "      <th>index</th>\n",
       "      <th>Unnamed: 0</th>\n",
       "      <th>CountryName</th>\n",
       "      <th>CountryCode</th>\n",
       "      <th>RegionName</th>\n",
       "      <th>RegionCode</th>\n",
       "      <th>Date</th>\n",
       "      <th>C1_School closing</th>\n",
       "      <th>C1_Flag</th>\n",
       "      <th>C2_Workplace closing</th>\n",
       "      <th>...</th>\n",
       "      <th>StringencyIndex</th>\n",
       "      <th>StringencyIndexForDisplay</th>\n",
       "      <th>StringencyLegacyIndex</th>\n",
       "      <th>StringencyLegacyIndexForDisplay</th>\n",
       "      <th>GovernmentResponseIndex</th>\n",
       "      <th>GovernmentResponseIndexForDisplay</th>\n",
       "      <th>ContainmentHealthIndex</th>\n",
       "      <th>ContainmentHealthIndexForDisplay</th>\n",
       "      <th>EconomicSupportIndex</th>\n",
       "      <th>EconomicSupportIndexForDisplay</th>\n",
       "    </tr>\n",
       "  </thead>\n",
       "  <tbody>\n",
       "    <tr>\n",
       "      <th>15616</th>\n",
       "      <td>15616</td>\n",
       "      <td>15616</td>\n",
       "      <td>United Kingdom</td>\n",
       "      <td>GBR</td>\n",
       "      <td>None</td>\n",
       "      <td>None</td>\n",
       "      <td>20200101</td>\n",
       "      <td>0.0</td>\n",
       "      <td>NaN</td>\n",
       "      <td>0.0</td>\n",
       "      <td>...</td>\n",
       "      <td>0.0</td>\n",
       "      <td>0.0</td>\n",
       "      <td>0.0</td>\n",
       "      <td>0.0</td>\n",
       "      <td>0.0</td>\n",
       "      <td>0.0</td>\n",
       "      <td>0.0</td>\n",
       "      <td>0.0</td>\n",
       "      <td>0.0</td>\n",
       "      <td>0.0</td>\n",
       "    </tr>\n",
       "    <tr>\n",
       "      <th>15617</th>\n",
       "      <td>15617</td>\n",
       "      <td>15617</td>\n",
       "      <td>United Kingdom</td>\n",
       "      <td>GBR</td>\n",
       "      <td>None</td>\n",
       "      <td>None</td>\n",
       "      <td>20200102</td>\n",
       "      <td>0.0</td>\n",
       "      <td>NaN</td>\n",
       "      <td>0.0</td>\n",
       "      <td>...</td>\n",
       "      <td>0.0</td>\n",
       "      <td>0.0</td>\n",
       "      <td>0.0</td>\n",
       "      <td>0.0</td>\n",
       "      <td>0.0</td>\n",
       "      <td>0.0</td>\n",
       "      <td>0.0</td>\n",
       "      <td>0.0</td>\n",
       "      <td>0.0</td>\n",
       "      <td>0.0</td>\n",
       "    </tr>\n",
       "    <tr>\n",
       "      <th>15618</th>\n",
       "      <td>15618</td>\n",
       "      <td>15618</td>\n",
       "      <td>United Kingdom</td>\n",
       "      <td>GBR</td>\n",
       "      <td>None</td>\n",
       "      <td>None</td>\n",
       "      <td>20200103</td>\n",
       "      <td>0.0</td>\n",
       "      <td>NaN</td>\n",
       "      <td>0.0</td>\n",
       "      <td>...</td>\n",
       "      <td>0.0</td>\n",
       "      <td>0.0</td>\n",
       "      <td>0.0</td>\n",
       "      <td>0.0</td>\n",
       "      <td>0.0</td>\n",
       "      <td>0.0</td>\n",
       "      <td>0.0</td>\n",
       "      <td>0.0</td>\n",
       "      <td>0.0</td>\n",
       "      <td>0.0</td>\n",
       "    </tr>\n",
       "    <tr>\n",
       "      <th>15619</th>\n",
       "      <td>15619</td>\n",
       "      <td>15619</td>\n",
       "      <td>United Kingdom</td>\n",
       "      <td>GBR</td>\n",
       "      <td>None</td>\n",
       "      <td>None</td>\n",
       "      <td>20200104</td>\n",
       "      <td>0.0</td>\n",
       "      <td>NaN</td>\n",
       "      <td>0.0</td>\n",
       "      <td>...</td>\n",
       "      <td>0.0</td>\n",
       "      <td>0.0</td>\n",
       "      <td>0.0</td>\n",
       "      <td>0.0</td>\n",
       "      <td>0.0</td>\n",
       "      <td>0.0</td>\n",
       "      <td>0.0</td>\n",
       "      <td>0.0</td>\n",
       "      <td>0.0</td>\n",
       "      <td>0.0</td>\n",
       "    </tr>\n",
       "    <tr>\n",
       "      <th>15620</th>\n",
       "      <td>15620</td>\n",
       "      <td>15620</td>\n",
       "      <td>United Kingdom</td>\n",
       "      <td>GBR</td>\n",
       "      <td>None</td>\n",
       "      <td>None</td>\n",
       "      <td>20200105</td>\n",
       "      <td>0.0</td>\n",
       "      <td>NaN</td>\n",
       "      <td>0.0</td>\n",
       "      <td>...</td>\n",
       "      <td>0.0</td>\n",
       "      <td>0.0</td>\n",
       "      <td>0.0</td>\n",
       "      <td>0.0</td>\n",
       "      <td>0.0</td>\n",
       "      <td>0.0</td>\n",
       "      <td>0.0</td>\n",
       "      <td>0.0</td>\n",
       "      <td>0.0</td>\n",
       "      <td>0.0</td>\n",
       "    </tr>\n",
       "  </tbody>\n",
       "</table>\n",
       "<p>5 rows × 46 columns</p>\n",
       "</div>"
      ],
      "text/plain": [
       "       index  Unnamed: 0     CountryName CountryCode RegionName RegionCode  \\\n",
       "15616  15616       15616  United Kingdom         GBR       None       None   \n",
       "15617  15617       15617  United Kingdom         GBR       None       None   \n",
       "15618  15618       15618  United Kingdom         GBR       None       None   \n",
       "15619  15619       15619  United Kingdom         GBR       None       None   \n",
       "15620  15620       15620  United Kingdom         GBR       None       None   \n",
       "\n",
       "           Date  C1_School closing  C1_Flag  C2_Workplace closing  ...  \\\n",
       "15616  20200101                0.0      NaN                   0.0  ...   \n",
       "15617  20200102                0.0      NaN                   0.0  ...   \n",
       "15618  20200103                0.0      NaN                   0.0  ...   \n",
       "15619  20200104                0.0      NaN                   0.0  ...   \n",
       "15620  20200105                0.0      NaN                   0.0  ...   \n",
       "\n",
       "       StringencyIndex  StringencyIndexForDisplay  StringencyLegacyIndex  \\\n",
       "15616              0.0                        0.0                    0.0   \n",
       "15617              0.0                        0.0                    0.0   \n",
       "15618              0.0                        0.0                    0.0   \n",
       "15619              0.0                        0.0                    0.0   \n",
       "15620              0.0                        0.0                    0.0   \n",
       "\n",
       "       StringencyLegacyIndexForDisplay  GovernmentResponseIndex  \\\n",
       "15616                              0.0                      0.0   \n",
       "15617                              0.0                      0.0   \n",
       "15618                              0.0                      0.0   \n",
       "15619                              0.0                      0.0   \n",
       "15620                              0.0                      0.0   \n",
       "\n",
       "       GovernmentResponseIndexForDisplay  ContainmentHealthIndex  \\\n",
       "15616                                0.0                     0.0   \n",
       "15617                                0.0                     0.0   \n",
       "15618                                0.0                     0.0   \n",
       "15619                                0.0                     0.0   \n",
       "15620                                0.0                     0.0   \n",
       "\n",
       "       ContainmentHealthIndexForDisplay  EconomicSupportIndex  \\\n",
       "15616                               0.0                   0.0   \n",
       "15617                               0.0                   0.0   \n",
       "15618                               0.0                   0.0   \n",
       "15619                               0.0                   0.0   \n",
       "15620                               0.0                   0.0   \n",
       "\n",
       "       EconomicSupportIndexForDisplay  \n",
       "15616                             0.0  \n",
       "15617                             0.0  \n",
       "15618                             0.0  \n",
       "15619                             0.0  \n",
       "15620                             0.0  \n",
       "\n",
       "[5 rows x 46 columns]"
      ]
     },
     "execution_count": 103,
     "metadata": {},
     "output_type": "execute_result"
    }
   ],
   "source": []
  },
  {
   "cell_type": "code",
   "execution_count": 112,
   "metadata": {},
   "outputs": [
    {
     "data": {
      "image/png": "[encoded data removed]",
      "text/plain": [
       "<Figure size 432x288 with 1 Axes>"
      ]
     },
     "metadata": {
      "needs_background": "light"
     },
     "output_type": "display_data"
    }
   ],
   "source": [
    "fig1 = plt.figure()\n",
    "\n",
    "plt.plot(diesel_df['Date'], diesel_df['Total'], label='Diesel')\n",
    "plt.plot(petrol_df['Date'], petrol_df['Total'], label='Petrol')\n",
    "plt.plot(oxford_uk_df['Date'], oxford_uk_df['StringencyIndex'])\n",
    "\n",
    "plt.xlabel('Date')\n",
    "plt.ylabel('Total Daily Sales in litres')\n",
    "plt.legend()\n",
    "\n",
    "\n",
    "plt.show()\n"
   ]
  },
  {
   "cell_type": "code",
   "execution_count": null,
   "metadata": {},
   "outputs": [],
   "source": []
  }
 ],
 "metadata": {
  "kernelspec": {
   "display_name": "Python 3",
   "language": "python",
   "name": "python3"
  },
  "language_info": {
   "codemirror_mode": {
    "name": "ipython",
    "version": 3
   },
   "file_extension": ".py",
   "mimetype": "text/x-python",
   "name": "python",
   "nbconvert_exporter": "python",
   "pygments_lexer": "ipython3",
   "version": "3.7.6"
  }
 },
 "nbformat": 4,
 "nbformat_minor": 4
}
