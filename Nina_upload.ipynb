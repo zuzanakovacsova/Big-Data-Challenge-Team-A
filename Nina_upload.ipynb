{
 "cells": [
  {
   "cell_type": "code",
   "execution_count": 44,
   "metadata": {},
   "outputs": [
    {
     "data": {
      "text/plain": [
       "'\\nurl = \"https://raw.githubusercontent.com/OxCGRT/covid-policy-tracker/master/data/OxCGRT_latest.csv\"\\ndownload = requests.get(url).content\\n\\ntest_df = pd.read_csv(io.StringIO(download.decode(\\'utf-8\\')))\\nprint(test_df.head())\\ntest_df.to_csv(\\'oxford_strigency.csv\\')\\n'"
      ]
     },
     "execution_count": 44,
     "metadata": {},
     "output_type": "execute_result"
    }
   ],
   "source": [
    "import pandas as pd\n",
    "import requests\n",
    "import io\n",
    "\n",
    "# download csv from git to my mac\n",
    "'''\n",
    "url = \"https://raw.githubusercontent.com/OxCGRT/covid-policy-tracker/master/data/OxCGRT_latest.csv\"\n",
    "download = requests.get(url).content\n",
    "\n",
    "test_df = pd.read_csv(io.StringIO(download.decode('utf-8')))\n",
    "print(test_df.head())\n",
    "test_df.to_csv('oxford_strigency.csv')\n",
    "'''"
   ]
  },
  {
   "cell_type": "code",
   "execution_count": 45,
   "metadata": {},
   "outputs": [],
   "source": [
    "from mysql.connector import MySQLConnection, Error\n",
    "import pandas as pd\n",
    "from sqlalchemy import create_engine \n",
    "import pymysql\n",
    "\n",
    "from connection_config import read_db_config"
   ]
  },
  {
   "cell_type": "code",
   "execution_count": 46,
   "metadata": {},
   "outputs": [],
   "source": [
    "conn_string,ssl_args = read_db_config('teama.teama')\n",
    "engine = create_engine(conn_string,connect_args=ssl_args)"
   ]
  },
  {
   "cell_type": "markdown",
   "metadata": {},
   "source": [
    "Import oxford strigency data"
   ]
  },
  {
   "cell_type": "code",
   "execution_count": 47,
   "metadata": {},
   "outputs": [],
   "source": [
    "# oxford_stringency_df = pd.read_csv('/Users/Nina/Documents/GitHub/Big-Data-Challenge-Team-A/oxford_strigency.csv',header = 0)\n",
    "# oxford_stringency_df.to_sql('oxford_stringency_raw',con = engine,if_exists = 'fail')"
   ]
  },
  {
   "cell_type": "markdown",
   "metadata": {},
   "source": [
    "Import diesel and petrol data for 2020 taken from https://www.gov.uk/government/statistics/road-fuel-sales-and-stock-levels-9-august-2020 "
   ]
  },
  {
   "cell_type": "code",
   "execution_count": 48,
   "metadata": {},
   "outputs": [],
   "source": [
    "# diesel_and_petrol_sales_2020_df = pd.read_csv('/Users/Nina/Documents/Big-Data-Challenge-Team-A/Nina_data/Petrol_and_diesel_sales_2020.csv',header = 0)\n",
    "# diesel_and_petrol_sales_2020_df.to_sql('diesel_and_petrol_sales_2020_df_raw',con = engine,if_exists = 'fail')"
   ]
  },
  {
   "cell_type": "code",
   "execution_count": 49,
   "metadata": {},
   "outputs": [],
   "source": [
    "# accessing dataframe from the cloud\n",
    "petrol_and_diesel_df = pd.read_sql('SELECT * FROM diesel_and_petrol_sales_2020_df_raw', con=engine)"
   ]
  },
  {
   "cell_type": "markdown",
   "metadata": {},
   "source": [
    "Check in which format the data is provided. The date column is not in datetime format, but a string, so I'll change that. "
   ]
  },
  {
   "cell_type": "code",
   "execution_count": 50,
   "metadata": {},
   "outputs": [
    {
     "data": {
      "text/plain": [
       "str"
      ]
     },
     "execution_count": 50,
     "metadata": {},
     "output_type": "execute_result"
    }
   ],
   "source": [
    "a = petrol_and_diesel_df.loc[5,'Date']\n",
    "type(a)\n"
   ]
  },
  {
   "cell_type": "code",
   "execution_count": 51,
   "metadata": {},
   "outputs": [
    {
     "data": {
      "text/plain": [
       "pandas._libs.tslibs.timestamps.Timestamp"
      ]
     },
     "execution_count": 51,
     "metadata": {},
     "output_type": "execute_result"
    }
   ],
   "source": [
    "# convert the 'Date' column to datetime format \n",
    "petrol_and_diesel_df['Date']= pd.to_datetime(petrol_and_diesel_df['Date']) \n",
    "# check again format\n",
    "a = petrol_and_diesel_df.loc[5,'Date']\n",
    "type(a)"
   ]
  },
  {
   "cell_type": "markdown",
   "metadata": {},
   "source": [
    "Check format of total. It's a string again, so change it to int"
   ]
  },
  {
   "cell_type": "code",
   "execution_count": 52,
   "metadata": {},
   "outputs": [
    {
     "data": {
      "text/plain": [
       "str"
      ]
     },
     "execution_count": 52,
     "metadata": {},
     "output_type": "execute_result"
    }
   ],
   "source": [
    "a = petrol_and_diesel_df.loc[5,'Total']\n",
    "type(a)\n"
   ]
  },
  {
   "cell_type": "code",
   "execution_count": 53,
   "metadata": {},
   "outputs": [
    {
     "data": {
      "text/plain": [
       "numpy.float32"
      ]
     },
     "execution_count": 53,
     "metadata": {},
     "output_type": "execute_result"
    }
   ],
   "source": [
    "petrol_and_diesel_df['Total'] = petrol_and_diesel_df['Total'].replace(',','', regex=True)\n",
    "petrol_and_diesel_df['Total']= pd.to_numeric(petrol_and_diesel_df['Total'], downcast='float') \n",
    "a = petrol_and_diesel_df.loc[5,'Total']\n",
    "type(a)"
   ]
  },
  {
   "cell_type": "markdown",
   "metadata": {},
   "source": [
    "Split dataframe into two dataframes, one for diesel data and one for petrol data\n"
   ]
  },
  {
   "cell_type": "code",
   "execution_count": 54,
   "metadata": {},
   "outputs": [],
   "source": [
    "diesel_df = petrol_and_diesel_df[petrol_and_diesel_df['Fuel Type'] == 'Diesel']\n",
    "petrol_df = petrol_and_diesel_df[petrol_and_diesel_df['Fuel Type'] == 'Petrol']\n"
   ]
  },
  {
   "cell_type": "code",
   "execution_count": 57,
   "metadata": {},
   "outputs": [
    {
     "data": {
      "text/html": [
       "<div>\n",
       "<style scoped>\n",
       "    .dataframe tbody tr th:only-of-type {\n",
       "        vertical-align: middle;\n",
       "    }\n",
       "\n",
       "    .dataframe tbody tr th {\n",
       "        vertical-align: top;\n",
       "    }\n",
       "\n",
       "    .dataframe thead th {\n",
       "        text-align: right;\n",
       "    }\n",
       "</style>\n",
       "<table border=\"1\" class=\"dataframe\">\n",
       "  <thead>\n",
       "    <tr style=\"text-align: right;\">\n",
       "      <th></th>\n",
       "      <th>index</th>\n",
       "      <th>Date</th>\n",
       "      <th>Weekday</th>\n",
       "      <th>Fuel Type</th>\n",
       "      <th>Total</th>\n",
       "    </tr>\n",
       "  </thead>\n",
       "  <tbody>\n",
       "    <tr>\n",
       "      <th>205</th>\n",
       "      <td>205</td>\n",
       "      <td>2020-08-19</td>\n",
       "      <td>Wednesday</td>\n",
       "      <td>Diesel</td>\n",
       "      <td>9999.0</td>\n",
       "    </tr>\n",
       "    <tr>\n",
       "      <th>206</th>\n",
       "      <td>206</td>\n",
       "      <td>2020-08-20</td>\n",
       "      <td>Thursday</td>\n",
       "      <td>Diesel</td>\n",
       "      <td>10496.0</td>\n",
       "    </tr>\n",
       "    <tr>\n",
       "      <th>207</th>\n",
       "      <td>207</td>\n",
       "      <td>2020-08-21</td>\n",
       "      <td>Friday</td>\n",
       "      <td>Diesel</td>\n",
       "      <td>10739.0</td>\n",
       "    </tr>\n",
       "    <tr>\n",
       "      <th>208</th>\n",
       "      <td>208</td>\n",
       "      <td>2020-08-22</td>\n",
       "      <td>Saturday</td>\n",
       "      <td>Diesel</td>\n",
       "      <td>7636.0</td>\n",
       "    </tr>\n",
       "    <tr>\n",
       "      <th>209</th>\n",
       "      <td>209</td>\n",
       "      <td>2020-08-23</td>\n",
       "      <td>Sunday</td>\n",
       "      <td>Diesel</td>\n",
       "      <td>6340.0</td>\n",
       "    </tr>\n",
       "  </tbody>\n",
       "</table>\n",
       "</div>"
      ],
      "text/plain": [
       "     index       Date    Weekday Fuel Type    Total\n",
       "205    205 2020-08-19  Wednesday    Diesel   9999.0\n",
       "206    206 2020-08-20   Thursday    Diesel  10496.0\n",
       "207    207 2020-08-21     Friday    Diesel  10739.0\n",
       "208    208 2020-08-22   Saturday    Diesel   7636.0\n",
       "209    209 2020-08-23     Sunday    Diesel   6340.0"
      ]
     },
     "execution_count": 57,
     "metadata": {},
     "output_type": "execute_result"
    }
   ],
   "source": [
    "diesel_df.tail()"
   ]
  },
  {
   "cell_type": "markdown",
   "metadata": {},
   "source": [
    "Plot both diesel and petrol sales in one figure"
   ]
  },
  {
   "cell_type": "code",
   "execution_count": 55,
   "metadata": {},
   "outputs": [
    {
     "data": {
      "image/png": "[encoded data removed]",
      "text/plain": [
       "<Figure size 432x288 with 1 Axes>"
      ]
     },
     "metadata": {
      "needs_background": "light"
     },
     "output_type": "display_data"
    }
   ],
   "source": [
    "\n",
    "import matplotlib.pyplot as plt\n",
    "diesel_df.plot(x ='Date', y='Total', kind = 'line')\n",
    "plt.show()\n"
   ]
  },
  {
   "cell_type": "code",
   "execution_count": null,
   "metadata": {},
   "outputs": [],
   "source": []
  }
 ],
 "metadata": {
  "kernelspec": {
   "display_name": "Python 3",
   "language": "python",
   "name": "python3"
  },
  "language_info": {
   "codemirror_mode": {
    "name": "ipython",
    "version": 3
   },
   "file_extension": ".py",
   "mimetype": "text/x-python",
   "name": "python",
   "nbconvert_exporter": "python",
   "pygments_lexer": "ipython3",
   "version": "3.7.6"
  }
 },
 "nbformat": 4,
 "nbformat_minor": 4
}
