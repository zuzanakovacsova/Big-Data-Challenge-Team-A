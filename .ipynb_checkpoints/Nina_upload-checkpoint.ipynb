{
 "cells": [
  {
   "cell_type": "code",
   "execution_count": 3,
   "metadata": {},
   "outputs": [
    {
     "name": "stdout",
     "output_type": "stream",
     "text": [
      "  CountryName CountryCode RegionName RegionCode      Date  C1_School closing  \\\n",
      "0       Aruba         ABW        NaN        NaN  20200101                0.0   \n",
      "1       Aruba         ABW        NaN        NaN  20200102                0.0   \n",
      "2       Aruba         ABW        NaN        NaN  20200103                0.0   \n",
      "3       Aruba         ABW        NaN        NaN  20200104                0.0   \n",
      "4       Aruba         ABW        NaN        NaN  20200105                0.0   \n",
      "\n",
      "   C1_Flag  C2_Workplace closing  C2_Flag  C3_Cancel public events  ...  \\\n",
      "0      NaN                   0.0      NaN                      0.0  ...   \n",
      "1      NaN                   0.0      NaN                      0.0  ...   \n",
      "2      NaN                   0.0      NaN                      0.0  ...   \n",
      "3      NaN                   0.0      NaN                      0.0  ...   \n",
      "4      NaN                   0.0      NaN                      0.0  ...   \n",
      "\n",
      "   StringencyIndex  StringencyIndexForDisplay  StringencyLegacyIndex  \\\n",
      "0              0.0                        0.0                    0.0   \n",
      "1              0.0                        0.0                    0.0   \n",
      "2              0.0                        0.0                    0.0   \n",
      "3              0.0                        0.0                    0.0   \n",
      "4              0.0                        0.0                    0.0   \n",
      "\n",
      "   StringencyLegacyIndexForDisplay  GovernmentResponseIndex  \\\n",
      "0                              0.0                      0.0   \n",
      "1                              0.0                      0.0   \n",
      "2                              0.0                      0.0   \n",
      "3                              0.0                      0.0   \n",
      "4                              0.0                      0.0   \n",
      "\n",
      "   GovernmentResponseIndexForDisplay  ContainmentHealthIndex  \\\n",
      "0                                0.0                     0.0   \n",
      "1                                0.0                     0.0   \n",
      "2                                0.0                     0.0   \n",
      "3                                0.0                     0.0   \n",
      "4                                0.0                     0.0   \n",
      "\n",
      "   ContainmentHealthIndexForDisplay  EconomicSupportIndex  \\\n",
      "0                               0.0                   0.0   \n",
      "1                               0.0                   0.0   \n",
      "2                               0.0                   0.0   \n",
      "3                               0.0                   0.0   \n",
      "4                               0.0                   0.0   \n",
      "\n",
      "   EconomicSupportIndexForDisplay  \n",
      "0                             0.0  \n",
      "1                             0.0  \n",
      "2                             0.0  \n",
      "3                             0.0  \n",
      "4                             0.0  \n",
      "\n",
      "[5 rows x 44 columns]\n"
     ]
    }
   ],
   "source": [
    "import pandas as pd\n",
    "import requests\n",
    "import io\n",
    "\n",
    "url = \"https://raw.githubusercontent.com/OxCGRT/covid-policy-tracker/master/data/OxCGRT_latest.csv\"\n",
    "download = requests.get(url).content\n",
    "\n",
    "test_df = pd.read_csv(io.StringIO(download.decode('utf-8')))\n",
    "print(test_df.head())\n",
    "test_df.to_csv('oxford_strigency.csv')"
   ]
  },
  {
   "cell_type": "code",
   "execution_count": 6,
   "metadata": {},
   "outputs": [],
   "source": [
    "from mysql.connector import MySQLConnection, Error\n",
    "import pandas as pd\n",
    "from sqlalchemy import create_engine \n",
    "import pymysql\n",
    "\n",
    "from connection_config import read_db_config"
   ]
  },
  {
   "cell_type": "code",
   "execution_count": 7,
   "metadata": {},
   "outputs": [],
   "source": [
    "conn_string,ssl_args = read_db_config('teama.teama')\n",
    "engine = create_engine(conn_string,connect_args=ssl_args)"
   ]
  },
  {
   "cell_type": "code",
   "execution_count": 8,
   "metadata": {},
   "outputs": [],
   "source": [
    "oxford_stringency_df = pd.read_csv('/Users/Nina/Documents/GitHub/Big-Data-Challenge-Team-A/oxford_strigency.csv',header = 0)\n",
    "oxford_stringency_df.to_sql('oxford_stringency_raw',con = engine,if_exists = 'fail')"
   ]
  },
  {
   "cell_type": "code",
   "execution_count": null,
   "metadata": {},
   "outputs": [],
   "source": []
  }
 ],
 "metadata": {
  "kernelspec": {
   "display_name": "Python 3",
   "language": "python",
   "name": "python3"
  },
  "language_info": {
   "codemirror_mode": {
    "name": "ipython",
    "version": 3
   },
   "file_extension": ".py",
   "mimetype": "text/x-python",
   "name": "python",
   "nbconvert_exporter": "python",
   "pygments_lexer": "ipython3",
   "version": "3.7.6"
  }
 },
 "nbformat": 4,
 "nbformat_minor": 4
}
