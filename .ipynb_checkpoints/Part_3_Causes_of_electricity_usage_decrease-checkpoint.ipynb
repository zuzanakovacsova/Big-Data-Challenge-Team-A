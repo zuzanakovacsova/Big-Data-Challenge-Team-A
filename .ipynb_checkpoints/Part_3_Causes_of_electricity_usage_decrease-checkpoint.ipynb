{
 "cells": [
  {
   "cell_type": "markdown",
   "metadata": {},
   "source": [
    "# Part 3: quantifying the decrease in electricity usage and finding its cause"
   ]
  },
  {
   "cell_type": "code",
   "execution_count": 1,
   "metadata": {},
   "outputs": [],
   "source": [
    "from mysql.connector import MySQLConnection, Error\n",
    "import pandas as pd\n",
    "from sqlalchemy import create_engine \n",
    "import pymysql\n",
    "import datetime\n",
    "import numpy as np\n",
    "import matplotlib.pyplot as plt\n",
    "\n",
    "from connection_config import read_db_config\n",
    "from plot_gov_events import plot_government_events\n",
    "from normality_test import normality_test"
   ]
  },
  {
   "cell_type": "markdown",
   "metadata": {},
   "source": [
    "## Look into the oxford stringency data\n",
    "To find the time window where Covid impact was most severe, we used the oxford stringency index. The stringency index records the strictness of ‘lockdown style’ policies that primarily restrict people’s behaviour."
   ]
  },
  {
   "cell_type": "code",
   "execution_count": 2,
   "metadata": {},
   "outputs": [],
   "source": [
    "# Downloading from database, focus on UK overall\n",
    "conn_string,ssl_args = read_db_config('teama.teama')\n",
    "engine = create_engine(conn_string,connect_args=ssl_args)\n",
    "oxford_stringency_df = pd.read_sql('SELECT * FROM oxford_stringency_raw WHERE CountryCode = \"GBR\" AND RegionName IS NULL', con=engine)"
   ]
  },
  {
   "cell_type": "code",
   "execution_count": 3,
   "metadata": {},
   "outputs": [
    {
     "data": {
      "text/html": [
       "<div>\n",
       "<style scoped>\n",
       "    .dataframe tbody tr th:only-of-type {\n",
       "        vertical-align: middle;\n",
       "    }\n",
       "\n",
       "    .dataframe tbody tr th {\n",
       "        vertical-align: top;\n",
       "    }\n",
       "\n",
       "    .dataframe thead th {\n",
       "        text-align: right;\n",
       "    }\n",
       "</style>\n",
       "<table border=\"1\" class=\"dataframe\">\n",
       "  <thead>\n",
       "    <tr style=\"text-align: right;\">\n",
       "      <th></th>\n",
       "      <th>index</th>\n",
       "      <th>Unnamed: 0</th>\n",
       "      <th>CountryName</th>\n",
       "      <th>CountryCode</th>\n",
       "      <th>RegionName</th>\n",
       "      <th>RegionCode</th>\n",
       "      <th>Date</th>\n",
       "      <th>C1_School closing</th>\n",
       "      <th>C1_Flag</th>\n",
       "      <th>C2_Workplace closing</th>\n",
       "      <th>...</th>\n",
       "      <th>StringencyIndex</th>\n",
       "      <th>StringencyIndexForDisplay</th>\n",
       "      <th>StringencyLegacyIndex</th>\n",
       "      <th>StringencyLegacyIndexForDisplay</th>\n",
       "      <th>GovernmentResponseIndex</th>\n",
       "      <th>GovernmentResponseIndexForDisplay</th>\n",
       "      <th>ContainmentHealthIndex</th>\n",
       "      <th>ContainmentHealthIndexForDisplay</th>\n",
       "      <th>EconomicSupportIndex</th>\n",
       "      <th>EconomicSupportIndexForDisplay</th>\n",
       "    </tr>\n",
       "  </thead>\n",
       "  <tbody>\n",
       "    <tr>\n",
       "      <th>0</th>\n",
       "      <td>15616</td>\n",
       "      <td>15616</td>\n",
       "      <td>United Kingdom</td>\n",
       "      <td>GBR</td>\n",
       "      <td>None</td>\n",
       "      <td>None</td>\n",
       "      <td>20200101</td>\n",
       "      <td>0.0</td>\n",
       "      <td>NaN</td>\n",
       "      <td>0.0</td>\n",
       "      <td>...</td>\n",
       "      <td>0.0</td>\n",
       "      <td>0.0</td>\n",
       "      <td>0.0</td>\n",
       "      <td>0.0</td>\n",
       "      <td>0.0</td>\n",
       "      <td>0.0</td>\n",
       "      <td>0.0</td>\n",
       "      <td>0.0</td>\n",
       "      <td>0.0</td>\n",
       "      <td>0.0</td>\n",
       "    </tr>\n",
       "    <tr>\n",
       "      <th>1</th>\n",
       "      <td>15617</td>\n",
       "      <td>15617</td>\n",
       "      <td>United Kingdom</td>\n",
       "      <td>GBR</td>\n",
       "      <td>None</td>\n",
       "      <td>None</td>\n",
       "      <td>20200102</td>\n",
       "      <td>0.0</td>\n",
       "      <td>NaN</td>\n",
       "      <td>0.0</td>\n",
       "      <td>...</td>\n",
       "      <td>0.0</td>\n",
       "      <td>0.0</td>\n",
       "      <td>0.0</td>\n",
       "      <td>0.0</td>\n",
       "      <td>0.0</td>\n",
       "      <td>0.0</td>\n",
       "      <td>0.0</td>\n",
       "      <td>0.0</td>\n",
       "      <td>0.0</td>\n",
       "      <td>0.0</td>\n",
       "    </tr>\n",
       "    <tr>\n",
       "      <th>2</th>\n",
       "      <td>15618</td>\n",
       "      <td>15618</td>\n",
       "      <td>United Kingdom</td>\n",
       "      <td>GBR</td>\n",
       "      <td>None</td>\n",
       "      <td>None</td>\n",
       "      <td>20200103</td>\n",
       "      <td>0.0</td>\n",
       "      <td>NaN</td>\n",
       "      <td>0.0</td>\n",
       "      <td>...</td>\n",
       "      <td>0.0</td>\n",
       "      <td>0.0</td>\n",
       "      <td>0.0</td>\n",
       "      <td>0.0</td>\n",
       "      <td>0.0</td>\n",
       "      <td>0.0</td>\n",
       "      <td>0.0</td>\n",
       "      <td>0.0</td>\n",
       "      <td>0.0</td>\n",
       "      <td>0.0</td>\n",
       "    </tr>\n",
       "    <tr>\n",
       "      <th>3</th>\n",
       "      <td>15619</td>\n",
       "      <td>15619</td>\n",
       "      <td>United Kingdom</td>\n",
       "      <td>GBR</td>\n",
       "      <td>None</td>\n",
       "      <td>None</td>\n",
       "      <td>20200104</td>\n",
       "      <td>0.0</td>\n",
       "      <td>NaN</td>\n",
       "      <td>0.0</td>\n",
       "      <td>...</td>\n",
       "      <td>0.0</td>\n",
       "      <td>0.0</td>\n",
       "      <td>0.0</td>\n",
       "      <td>0.0</td>\n",
       "      <td>0.0</td>\n",
       "      <td>0.0</td>\n",
       "      <td>0.0</td>\n",
       "      <td>0.0</td>\n",
       "      <td>0.0</td>\n",
       "      <td>0.0</td>\n",
       "    </tr>\n",
       "    <tr>\n",
       "      <th>4</th>\n",
       "      <td>15620</td>\n",
       "      <td>15620</td>\n",
       "      <td>United Kingdom</td>\n",
       "      <td>GBR</td>\n",
       "      <td>None</td>\n",
       "      <td>None</td>\n",
       "      <td>20200105</td>\n",
       "      <td>0.0</td>\n",
       "      <td>NaN</td>\n",
       "      <td>0.0</td>\n",
       "      <td>...</td>\n",
       "      <td>0.0</td>\n",
       "      <td>0.0</td>\n",
       "      <td>0.0</td>\n",
       "      <td>0.0</td>\n",
       "      <td>0.0</td>\n",
       "      <td>0.0</td>\n",
       "      <td>0.0</td>\n",
       "      <td>0.0</td>\n",
       "      <td>0.0</td>\n",
       "      <td>0.0</td>\n",
       "    </tr>\n",
       "  </tbody>\n",
       "</table>\n",
       "<p>5 rows × 46 columns</p>\n",
       "</div>"
      ],
      "text/plain": [
       "   index  Unnamed: 0     CountryName CountryCode RegionName RegionCode  \\\n",
       "0  15616       15616  United Kingdom         GBR       None       None   \n",
       "1  15617       15617  United Kingdom         GBR       None       None   \n",
       "2  15618       15618  United Kingdom         GBR       None       None   \n",
       "3  15619       15619  United Kingdom         GBR       None       None   \n",
       "4  15620       15620  United Kingdom         GBR       None       None   \n",
       "\n",
       "       Date  C1_School closing  C1_Flag  C2_Workplace closing  ...  \\\n",
       "0  20200101                0.0      NaN                   0.0  ...   \n",
       "1  20200102                0.0      NaN                   0.0  ...   \n",
       "2  20200103                0.0      NaN                   0.0  ...   \n",
       "3  20200104                0.0      NaN                   0.0  ...   \n",
       "4  20200105                0.0      NaN                   0.0  ...   \n",
       "\n",
       "   StringencyIndex  StringencyIndexForDisplay  StringencyLegacyIndex  \\\n",
       "0              0.0                        0.0                    0.0   \n",
       "1              0.0                        0.0                    0.0   \n",
       "2              0.0                        0.0                    0.0   \n",
       "3              0.0                        0.0                    0.0   \n",
       "4              0.0                        0.0                    0.0   \n",
       "\n",
       "   StringencyLegacyIndexForDisplay  GovernmentResponseIndex  \\\n",
       "0                              0.0                      0.0   \n",
       "1                              0.0                      0.0   \n",
       "2                              0.0                      0.0   \n",
       "3                              0.0                      0.0   \n",
       "4                              0.0                      0.0   \n",
       "\n",
       "   GovernmentResponseIndexForDisplay  ContainmentHealthIndex  \\\n",
       "0                                0.0                     0.0   \n",
       "1                                0.0                     0.0   \n",
       "2                                0.0                     0.0   \n",
       "3                                0.0                     0.0   \n",
       "4                                0.0                     0.0   \n",
       "\n",
       "   ContainmentHealthIndexForDisplay  EconomicSupportIndex  \\\n",
       "0                               0.0                   0.0   \n",
       "1                               0.0                   0.0   \n",
       "2                               0.0                   0.0   \n",
       "3                               0.0                   0.0   \n",
       "4                               0.0                   0.0   \n",
       "\n",
       "   EconomicSupportIndexForDisplay  \n",
       "0                             0.0  \n",
       "1                             0.0  \n",
       "2                             0.0  \n",
       "3                             0.0  \n",
       "4                             0.0  \n",
       "\n",
       "[5 rows x 46 columns]"
      ]
     },
     "execution_count": 3,
     "metadata": {},
     "output_type": "execute_result"
    }
   ],
   "source": [
    "oxford_stringency_df.head()"
   ]
  },
  {
   "cell_type": "code",
   "execution_count": 4,
   "metadata": {},
   "outputs": [],
   "source": [
    "# Can remove index, unnamed, region name, region code, country code \n",
    "oxford_stringency_df=oxford_stringency_df.drop([\"index\",\"Unnamed: 0\",\"CountryCode\",\"RegionName\",\"RegionCode\"],axis = 1)"
   ]
  },
  {
   "cell_type": "code",
   "execution_count": 5,
   "metadata": {},
   "outputs": [
    {
     "data": {
      "text/plain": [
       "CountryName                               object\n",
       "Date                                       int64\n",
       "C1_School closing                        float64\n",
       "C1_Flag                                  float64\n",
       "C2_Workplace closing                     float64\n",
       "C2_Flag                                  float64\n",
       "C3_Cancel public events                  float64\n",
       "C3_Flag                                  float64\n",
       "C4_Restrictions on gatherings            float64\n",
       "C4_Flag                                  float64\n",
       "C5_Close public transport                float64\n",
       "C5_Flag                                  float64\n",
       "C6_Stay at home requirements             float64\n",
       "C6_Flag                                  float64\n",
       "C7_Restrictions on internal movement     float64\n",
       "C7_Flag                                  float64\n",
       "C8_International travel controls         float64\n",
       "E1_Income support                        float64\n",
       "E1_Flag                                  float64\n",
       "E2_Debt/contract relief                  float64\n",
       "E3_Fiscal measures                       float64\n",
       "E4_International support                 float64\n",
       "H1_Public information campaigns          float64\n",
       "H1_Flag                                  float64\n",
       "H2_Testing policy                        float64\n",
       "H3_Contact tracing                       float64\n",
       "H4_Emergency investment in healthcare    float64\n",
       "H5_Investment in vaccines                float64\n",
       "M1_Wildcard                               object\n",
       "ConfirmedCases                           float64\n",
       "ConfirmedDeaths                          float64\n",
       "StringencyIndex                          float64\n",
       "StringencyIndexForDisplay                float64\n",
       "StringencyLegacyIndex                    float64\n",
       "StringencyLegacyIndexForDisplay          float64\n",
       "GovernmentResponseIndex                  float64\n",
       "GovernmentResponseIndexForDisplay        float64\n",
       "ContainmentHealthIndex                   float64\n",
       "ContainmentHealthIndexForDisplay         float64\n",
       "EconomicSupportIndex                     float64\n",
       "EconomicSupportIndexForDisplay           float64\n",
       "dtype: object"
      ]
     },
     "execution_count": 5,
     "metadata": {},
     "output_type": "execute_result"
    }
   ],
   "source": [
    "# Look what data is in the database\n",
    "oxford_stringency_df.dtypes"
   ]
  },
  {
   "cell_type": "code",
   "execution_count": 6,
   "metadata": {},
   "outputs": [],
   "source": [
    "# need to reformat date into datetime\n",
    "oxford_stringency_df['Date']= pd.to_datetime(oxford_stringency_df['Date'], format='%Y%m%d')"
   ]
  },
  {
   "cell_type": "markdown",
   "metadata": {},
   "source": [
    " ## Plot stringency index against covid policy changes\n",
    " Source of policy dates is [here](https://www.health.org.uk/news-and-comment/charts-and-infographics/covid-19-policy-tracker)."
   ]
  },
  {
   "cell_type": "code",
   "execution_count": 115,
   "metadata": {},
   "outputs": [
    {
     "data": {
      "image/png": "[encoded data removed]",
      "text/plain": [
       "<Figure size 1008x216 with 1 Axes>"
      ]
     },
     "metadata": {
      "needs_background": "light"
     },
     "output_type": "display_data"
    }
   ],
   "source": [
    "fig, ax = plt.subplots(figsize=(14,3))\n",
    "ax.set_xlabel('Date')\n",
    "ax.set_ylabel('Oxford Stringency Index for UK')\n",
    "ax.plot(oxford_stringency_df['Date'], oxford_stringency_df['StringencyIndex'])\n",
    "# change range \n",
    "ax.set_xlim([datetime.date(2020, 1, 27), datetime.date(2020, 8, 15)])\n",
    "# add government events\n",
    "plot_government_events()\n",
    "    \n",
    "ax.margins(0.1)"
   ]
  },
  {
   "cell_type": "markdown",
   "metadata": {},
   "source": [
    "The stringency index is high when there are many restrictions. For our analysis, we are going to investigate the change in electricity behaviour between the first self-isolation measures on the <strong>12th of March</strong> and the second easing of measures on the <strong>1st of June</strong>."
   ]
  },
  {
   "cell_type": "markdown",
   "metadata": {},
   "source": [
    "## Load model results"
   ]
  },
  {
   "cell_type": "code",
   "execution_count": 35,
   "metadata": {},
   "outputs": [
    {
     "data": {
      "text/html": [
       "<div>\n",
       "<style scoped>\n",
       "    .dataframe tbody tr th:only-of-type {\n",
       "        vertical-align: middle;\n",
       "    }\n",
       "\n",
       "    .dataframe tbody tr th {\n",
       "        vertical-align: top;\n",
       "    }\n",
       "\n",
       "    .dataframe thead th {\n",
       "        text-align: right;\n",
       "    }\n",
       "</style>\n",
       "<table border=\"1\" class=\"dataframe\">\n",
       "  <thead>\n",
       "    <tr style=\"text-align: right;\">\n",
       "      <th></th>\n",
       "      <th>Timestamp</th>\n",
       "      <th>Predicted</th>\n",
       "      <th>Actual</th>\n",
       "    </tr>\n",
       "  </thead>\n",
       "  <tbody>\n",
       "    <tr>\n",
       "      <th>0</th>\n",
       "      <td>2015-01-01</td>\n",
       "      <td>34477.384361</td>\n",
       "      <td>28312.104167</td>\n",
       "    </tr>\n",
       "    <tr>\n",
       "      <th>1</th>\n",
       "      <td>2015-01-02</td>\n",
       "      <td>37739.850193</td>\n",
       "      <td>30855.979167</td>\n",
       "    </tr>\n",
       "    <tr>\n",
       "      <th>2</th>\n",
       "      <td>2015-01-03</td>\n",
       "      <td>37398.541970</td>\n",
       "      <td>31009.833333</td>\n",
       "    </tr>\n",
       "    <tr>\n",
       "      <th>3</th>\n",
       "      <td>2015-01-04</td>\n",
       "      <td>36865.903208</td>\n",
       "      <td>30924.687500</td>\n",
       "    </tr>\n",
       "    <tr>\n",
       "      <th>4</th>\n",
       "      <td>2015-01-05</td>\n",
       "      <td>40834.548325</td>\n",
       "      <td>41563.562500</td>\n",
       "    </tr>\n",
       "  </tbody>\n",
       "</table>\n",
       "</div>"
      ],
      "text/plain": [
       "    Timestamp     Predicted        Actual\n",
       "0  2015-01-01  34477.384361  28312.104167\n",
       "1  2015-01-02  37739.850193  30855.979167\n",
       "2  2015-01-03  37398.541970  31009.833333\n",
       "3  2015-01-04  36865.903208  30924.687500\n",
       "4  2015-01-05  40834.548325  41563.562500"
      ]
     },
     "execution_count": 35,
     "metadata": {},
     "output_type": "execute_result"
    }
   ],
   "source": [
    "model_result_df = pd.read_sql('SELECT * FROM model_only_load_2015_2020_tuned_trained_2015_2019', con=engine)\n",
    "model_result_df = model_result_df.drop([\"index\"],axis=1)\n",
    "model_result_df.head()"
   ]
  },
  {
   "cell_type": "markdown",
   "metadata": {},
   "source": [
    "## Quantify difference between 12/03 and 01/06"
   ]
  },
  {
   "cell_type": "code",
   "execution_count": 36,
   "metadata": {},
   "outputs": [],
   "source": [
    "start_lockdown_index = model_result_df[model_result_df[\"Timestamp\"]==datetime.date(year=2020,month=3,day=12)].index.values\n",
    "end_lockdown_index = model_result_df[model_result_df[\"Timestamp\"]==datetime.date(year=2020,month=6,day=1)].index.values"
   ]
  },
  {
   "cell_type": "code",
   "execution_count": 37,
   "metadata": {},
   "outputs": [
    {
     "data": {
      "text/html": [
       "<div>\n",
       "<style scoped>\n",
       "    .dataframe tbody tr th:only-of-type {\n",
       "        vertical-align: middle;\n",
       "    }\n",
       "\n",
       "    .dataframe tbody tr th {\n",
       "        vertical-align: top;\n",
       "    }\n",
       "\n",
       "    .dataframe thead th {\n",
       "        text-align: right;\n",
       "    }\n",
       "</style>\n",
       "<table border=\"1\" class=\"dataframe\">\n",
       "  <thead>\n",
       "    <tr style=\"text-align: right;\">\n",
       "      <th></th>\n",
       "      <th>Timestamp</th>\n",
       "      <th>Predicted</th>\n",
       "      <th>Actual</th>\n",
       "    </tr>\n",
       "  </thead>\n",
       "  <tbody>\n",
       "    <tr>\n",
       "      <th>1973</th>\n",
       "      <td>2020-05-28</td>\n",
       "      <td>32493.080047</td>\n",
       "      <td>29638.416667</td>\n",
       "    </tr>\n",
       "    <tr>\n",
       "      <th>1974</th>\n",
       "      <td>2020-05-29</td>\n",
       "      <td>32099.464594</td>\n",
       "      <td>28816.750000</td>\n",
       "    </tr>\n",
       "    <tr>\n",
       "      <th>1975</th>\n",
       "      <td>2020-05-30</td>\n",
       "      <td>29114.334078</td>\n",
       "      <td>25443.083333</td>\n",
       "    </tr>\n",
       "    <tr>\n",
       "      <th>1976</th>\n",
       "      <td>2020-05-31</td>\n",
       "      <td>28418.388291</td>\n",
       "      <td>25307.687500</td>\n",
       "    </tr>\n",
       "    <tr>\n",
       "      <th>1977</th>\n",
       "      <td>2020-06-01</td>\n",
       "      <td>32209.762145</td>\n",
       "      <td>28984.625000</td>\n",
       "    </tr>\n",
       "  </tbody>\n",
       "</table>\n",
       "</div>"
      ],
      "text/plain": [
       "       Timestamp     Predicted        Actual\n",
       "1973  2020-05-28  32493.080047  29638.416667\n",
       "1974  2020-05-29  32099.464594  28816.750000\n",
       "1975  2020-05-30  29114.334078  25443.083333\n",
       "1976  2020-05-31  28418.388291  25307.687500\n",
       "1977  2020-06-01  32209.762145  28984.625000"
      ]
     },
     "execution_count": 37,
     "metadata": {},
     "output_type": "execute_result"
    }
   ],
   "source": [
    "lockdown_load = model_result_df.iloc[start_lockdown_index[0]:end_lockdown_index[0]+1]\n",
    "lockdown_load.tail()"
   ]
  },
  {
   "cell_type": "code",
   "execution_count": 44,
   "metadata": {},
   "outputs": [
    {
     "name": "stdout",
     "output_type": "stream",
     "text": [
      "Statistics=0.962, p=0.015\n",
      "Sample does not look Gaussian (reject H0)\n",
      "Statistics=0.981, p=0.282\n",
      "Sample looks Gaussian (fail to reject H0)\n"
     ]
    },
    {
     "data": {
      "image/png": "[encoded data removed]",
      "text/plain": [
       "<Figure size 432x288 with 1 Axes>"
      ]
     },
     "metadata": {
      "needs_background": "light"
     },
     "output_type": "display_data"
    }
   ],
   "source": [
    "# Check normality\n",
    "normality_test(lockdown_load[\"Actual\"])\n",
    "normality_test(lockdown_load[\"Predicted\"])"
   ]
  },
  {
   "cell_type": "code",
   "execution_count": 57,
   "metadata": {},
   "outputs": [
    {
     "name": "stdout",
     "output_type": "stream",
     "text": [
      "Drop in median electricity load between the 12th of March and the 1st of June: 14.213 %.\n"
     ]
    }
   ],
   "source": [
    "# Will use median to describe drop as actual distribution not normal\n",
    "difference = (lockdown_load[\"Predicted\"].median() - lockdown_load[\"Actual\"].median())/ lockdown_load[\"Predicted\"].median()*100\n",
    "print('Drop in median electricity usage between the 12th of March and the 1st of June: %.3f' % difference, '%.')"
   ]
  },
  {
   "cell_type": "markdown",
   "metadata": {},
   "source": [
    "## What caused decreases in electricity usage?\n",
    "We have found a <strong>14% decrease</strong> in electricity usage during covid compared to what it would have been if Covid hadn't happened. What caused this? \n",
    "To explore the bahviour of people, we used apple and google mobility data. "
   ]
  },
  {
   "cell_type": "code",
   "execution_count": 119,
   "metadata": {},
   "outputs": [],
   "source": [
    "apple_mob_uk = pd.read_sql('SELECT * FROM applemobilitytrends_raw WHERE region = \"United Kingdom\"', con=engine)\n",
    "apple_mob_uk = apple_mob_uk.iloc[:,7:]\n",
    "transpose_df = apple_mob_uk.transpose()\n",
    "transpose_df = transpose_df.rename(columns={0: 'driving', 1:\"transit\",2:\"walking\"})\n",
    "transpose_df=transpose_df.reset_index()\n",
    "transpose_df['Date']= pd.to_datetime(transpose_df['index'], format='%Y-%m-%d')"
   ]
  },
  {
   "cell_type": "code",
   "execution_count": 125,
   "metadata": {},
   "outputs": [
    {
     "data": {
      "text/plain": [
       "(737451.0, 737652.0)"
      ]
     },
     "execution_count": 125,
     "metadata": {},
     "output_type": "execute_result"
    },
    {
     "data": {
      "image/png": "[encoded data removed]",
      "text/plain": [
       "<Figure size 1008x216 with 1 Axes>"
      ]
     },
     "metadata": {
      "needs_background": "light"
     },
     "output_type": "display_data"
    }
   ],
   "source": [
    "fig, ax = plt.subplots(figsize=(14,3))\n",
    "\n",
    "plt.plot(transpose_df[\"Date\"], transpose_df['driving'], label='Driving')\n",
    "plt.plot(transpose_df[\"Date\"], transpose_df['transit'], label='Public Transport')\n",
    "plt.plot(transpose_df[\"Date\"], transpose_df['walking'], label='Walking')\n",
    "plt.xlabel('Date')\n",
    "plt.ylabel('Mobility in % compared to baseline')\n",
    "plt.legend()\n",
    "plot_government_events()\n",
    "ax.margins(0.1)\n",
    "plt.xlim([datetime.date(2020, 1, 27), datetime.date(2020, 8, 15)])\n"
   ]
  },
  {
   "cell_type": "markdown",
   "metadata": {},
   "source": [
    "Apple's mobility data highlights that already on the weekend of the 14th and 15th of March 2020, people's mobility decreased compared to the weekends before. Since government policies to combat COVID-19 properly started the week after, one could argue that people reduced their mobility without government mandates. This might be because of the prominence of COVID-19 in the news, making people reconsider meeting with friends and to avoid crowded places. Related to avoiding crowded places, one effect of the pandemic is the decrease in usage of public transport. Work from home orders might play a role here, reducing the need to commute to work with public transport. \n",
    "\n",
    "This decrease in public transport usage could be reflected in the fact that the volume of driving from July onwards tends to be higher than the baseline volume on 13 January 2020. "
   ]
  },
  {
   "cell_type": "markdown",
   "metadata": {},
   "source": [
    "## Google mobility data\n",
    "We can get more insight into the behaviour of people from Google's mobility data, which is quantified in a slightly different way than apple's data. Focusing on the whole of UK again."
   ]
  },
  {
   "cell_type": "code",
   "execution_count": 129,
   "metadata": {},
   "outputs": [
    {
     "data": {
      "text/html": [
       "<div>\n",
       "<style scoped>\n",
       "    .dataframe tbody tr th:only-of-type {\n",
       "        vertical-align: middle;\n",
       "    }\n",
       "\n",
       "    .dataframe tbody tr th {\n",
       "        vertical-align: top;\n",
       "    }\n",
       "\n",
       "    .dataframe thead th {\n",
       "        text-align: right;\n",
       "    }\n",
       "</style>\n",
       "<table border=\"1\" class=\"dataframe\">\n",
       "  <thead>\n",
       "    <tr style=\"text-align: right;\">\n",
       "      <th></th>\n",
       "      <th>index</th>\n",
       "      <th>country_region_code</th>\n",
       "      <th>country_region</th>\n",
       "      <th>sub_region_1</th>\n",
       "      <th>sub_region_2</th>\n",
       "      <th>metro_area</th>\n",
       "      <th>iso_3166_2_code</th>\n",
       "      <th>census_fips_code</th>\n",
       "      <th>date</th>\n",
       "      <th>retail_and_recreation_percent_change_from_baseline</th>\n",
       "      <th>grocery_and_pharmacy_percent_change_from_baseline</th>\n",
       "      <th>parks_percent_change_from_baseline</th>\n",
       "      <th>transit_stations_percent_change_from_baseline</th>\n",
       "      <th>workplaces_percent_change_from_baseline</th>\n",
       "      <th>residential_percent_change_from_baseline</th>\n",
       "    </tr>\n",
       "  </thead>\n",
       "  <tbody>\n",
       "    <tr>\n",
       "      <th>0</th>\n",
       "      <td>850033</td>\n",
       "      <td>GB</td>\n",
       "      <td>United Kingdom</td>\n",
       "      <td>None</td>\n",
       "      <td>None</td>\n",
       "      <td>None</td>\n",
       "      <td>None</td>\n",
       "      <td>None</td>\n",
       "      <td>2020-02-15</td>\n",
       "      <td>-12.0</td>\n",
       "      <td>-7.0</td>\n",
       "      <td>-35.0</td>\n",
       "      <td>-12.0</td>\n",
       "      <td>-4.0</td>\n",
       "      <td>2.0</td>\n",
       "    </tr>\n",
       "    <tr>\n",
       "      <th>1</th>\n",
       "      <td>850034</td>\n",
       "      <td>GB</td>\n",
       "      <td>United Kingdom</td>\n",
       "      <td>None</td>\n",
       "      <td>None</td>\n",
       "      <td>None</td>\n",
       "      <td>None</td>\n",
       "      <td>None</td>\n",
       "      <td>2020-02-16</td>\n",
       "      <td>-7.0</td>\n",
       "      <td>-6.0</td>\n",
       "      <td>-28.0</td>\n",
       "      <td>-7.0</td>\n",
       "      <td>-3.0</td>\n",
       "      <td>1.0</td>\n",
       "    </tr>\n",
       "    <tr>\n",
       "      <th>2</th>\n",
       "      <td>850035</td>\n",
       "      <td>GB</td>\n",
       "      <td>United Kingdom</td>\n",
       "      <td>None</td>\n",
       "      <td>None</td>\n",
       "      <td>None</td>\n",
       "      <td>None</td>\n",
       "      <td>None</td>\n",
       "      <td>2020-02-17</td>\n",
       "      <td>10.0</td>\n",
       "      <td>1.0</td>\n",
       "      <td>24.0</td>\n",
       "      <td>-2.0</td>\n",
       "      <td>-14.0</td>\n",
       "      <td>2.0</td>\n",
       "    </tr>\n",
       "    <tr>\n",
       "      <th>3</th>\n",
       "      <td>850036</td>\n",
       "      <td>GB</td>\n",
       "      <td>United Kingdom</td>\n",
       "      <td>None</td>\n",
       "      <td>None</td>\n",
       "      <td>None</td>\n",
       "      <td>None</td>\n",
       "      <td>None</td>\n",
       "      <td>2020-02-18</td>\n",
       "      <td>7.0</td>\n",
       "      <td>-1.0</td>\n",
       "      <td>20.0</td>\n",
       "      <td>-3.0</td>\n",
       "      <td>-14.0</td>\n",
       "      <td>2.0</td>\n",
       "    </tr>\n",
       "    <tr>\n",
       "      <th>4</th>\n",
       "      <td>850037</td>\n",
       "      <td>GB</td>\n",
       "      <td>United Kingdom</td>\n",
       "      <td>None</td>\n",
       "      <td>None</td>\n",
       "      <td>None</td>\n",
       "      <td>None</td>\n",
       "      <td>None</td>\n",
       "      <td>2020-02-19</td>\n",
       "      <td>6.0</td>\n",
       "      <td>-2.0</td>\n",
       "      <td>8.0</td>\n",
       "      <td>-4.0</td>\n",
       "      <td>-14.0</td>\n",
       "      <td>3.0</td>\n",
       "    </tr>\n",
       "  </tbody>\n",
       "</table>\n",
       "</div>"
      ],
      "text/plain": [
       "    index country_region_code  country_region sub_region_1 sub_region_2  \\\n",
       "0  850033                  GB  United Kingdom         None         None   \n",
       "1  850034                  GB  United Kingdom         None         None   \n",
       "2  850035                  GB  United Kingdom         None         None   \n",
       "3  850036                  GB  United Kingdom         None         None   \n",
       "4  850037                  GB  United Kingdom         None         None   \n",
       "\n",
       "  metro_area iso_3166_2_code census_fips_code        date  \\\n",
       "0       None            None             None  2020-02-15   \n",
       "1       None            None             None  2020-02-16   \n",
       "2       None            None             None  2020-02-17   \n",
       "3       None            None             None  2020-02-18   \n",
       "4       None            None             None  2020-02-19   \n",
       "\n",
       "   retail_and_recreation_percent_change_from_baseline  \\\n",
       "0                                              -12.0    \n",
       "1                                               -7.0    \n",
       "2                                               10.0    \n",
       "3                                                7.0    \n",
       "4                                                6.0    \n",
       "\n",
       "   grocery_and_pharmacy_percent_change_from_baseline  \\\n",
       "0                                               -7.0   \n",
       "1                                               -6.0   \n",
       "2                                                1.0   \n",
       "3                                               -1.0   \n",
       "4                                               -2.0   \n",
       "\n",
       "   parks_percent_change_from_baseline  \\\n",
       "0                               -35.0   \n",
       "1                               -28.0   \n",
       "2                                24.0   \n",
       "3                                20.0   \n",
       "4                                 8.0   \n",
       "\n",
       "   transit_stations_percent_change_from_baseline  \\\n",
       "0                                          -12.0   \n",
       "1                                           -7.0   \n",
       "2                                           -2.0   \n",
       "3                                           -3.0   \n",
       "4                                           -4.0   \n",
       "\n",
       "   workplaces_percent_change_from_baseline  \\\n",
       "0                                     -4.0   \n",
       "1                                     -3.0   \n",
       "2                                    -14.0   \n",
       "3                                    -14.0   \n",
       "4                                    -14.0   \n",
       "\n",
       "   residential_percent_change_from_baseline  \n",
       "0                                       2.0  \n",
       "1                                       1.0  \n",
       "2                                       2.0  \n",
       "3                                       2.0  \n",
       "4                                       3.0  "
      ]
     },
     "execution_count": 129,
     "metadata": {},
     "output_type": "execute_result"
    }
   ],
   "source": [
    "google_mob_df = pd.read_sql('SELECT * FROM Google_Global_Mobility_Report_raw WHERE country_region = \"United Kingdom\" AND sub_region_1 IS NULL', con=engine)\n",
    "google_mob_df.head()"
   ]
  },
  {
   "cell_type": "code",
   "execution_count": 131,
   "metadata": {},
   "outputs": [],
   "source": [
    "google_mob_df['date']= pd.to_datetime(google_mob_df['date'], format='%Y-%m-%d')"
   ]
  },
  {
   "cell_type": "code",
   "execution_count": null,
   "metadata": {},
   "outputs": [],
   "source": []
  }
 ],
 "metadata": {
  "kernelspec": {
   "display_name": "Python 3",
   "language": "python",
   "name": "python3"
  },
  "language_info": {
   "codemirror_mode": {
    "name": "ipython",
    "version": 3
   },
   "file_extension": ".py",
   "mimetype": "text/x-python",
   "name": "python",
   "nbconvert_exporter": "python",
   "pygments_lexer": "ipython3",
   "version": "3.7.4"
  }
 },
 "nbformat": 4,
 "nbformat_minor": 4
}
