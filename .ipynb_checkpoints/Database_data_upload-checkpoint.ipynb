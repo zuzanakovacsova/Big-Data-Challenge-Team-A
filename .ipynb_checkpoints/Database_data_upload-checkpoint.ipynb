{
 "cells": [
  {
   "cell_type": "code",
   "execution_count": 1,
   "metadata": {},
   "outputs": [],
   "source": [
    "from mysql.connector import MySQLConnection, Error\n",
    "import pandas as pd\n",
    "from sqlalchemy import create_engine \n",
    "import pymysql\n",
    "\n",
    "from connection_config import read_db_config"
   ]
  },
  {
   "cell_type": "markdown",
   "metadata": {},
   "source": [
    "Create connection arguments"
   ]
  },
  {
   "cell_type": "code",
   "execution_count": 2,
   "metadata": {},
   "outputs": [],
   "source": [
    "conn_string,ssl_args = read_db_config('zuzana.teama')\n",
    "engine = create_engine(conn_string,connect_args=ssl_args)"
   ]
  },
  {
   "cell_type": "markdown",
   "metadata": {},
   "source": [
    "Load data into pandas dataframe and upload that then onto the database"
   ]
  },
  {
   "cell_type": "code",
   "execution_count": 3,
   "metadata": {},
   "outputs": [],
   "source": [
    "#TotalLoad_2015_df = pd.read_csv('/Projects/BigDataChallenge/Big-Data-Challenge-Team-A/Data/TotalLoad_2015.csv',header = 0)\n",
    "#TotalLoad_2015_df.to_sql('totalload_2015_entsoe_raw',con = engine,if_exists = 'fail')"
   ]
  },
  {
   "cell_type": "code",
   "execution_count": null,
   "metadata": {},
   "outputs": [],
   "source": []
  }
 ],
 "metadata": {
  "kernelspec": {
   "display_name": "Python 3",
   "language": "python",
   "name": "python3"
  },
  "language_info": {
   "codemirror_mode": {
    "name": "ipython",
    "version": 3
   },
   "file_extension": ".py",
   "mimetype": "text/x-python",
   "name": "python",
   "nbconvert_exporter": "python",
   "pygments_lexer": "ipython3",
   "version": "3.7.4"
  }
 },
 "nbformat": 4,
 "nbformat_minor": 4
}
